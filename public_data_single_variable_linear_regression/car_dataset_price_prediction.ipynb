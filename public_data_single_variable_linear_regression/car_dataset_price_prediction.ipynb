{
 "cells": [
  {
   "cell_type": "code",
   "execution_count": 1,
   "metadata": {},
   "outputs": [],
   "source": [
    "import matplotlib.pyplot as plt\n",
    "import numpy as np\n",
    "import pandas as pd"
   ]
  },
  {
   "cell_type": "code",
   "execution_count": 2,
   "metadata": {},
   "outputs": [
    {
     "data": {
      "text/html": [
       "<div>\n",
       "<style scoped>\n",
       "    .dataframe tbody tr th:only-of-type {\n",
       "        vertical-align: middle;\n",
       "    }\n",
       "\n",
       "    .dataframe tbody tr th {\n",
       "        vertical-align: top;\n",
       "    }\n",
       "\n",
       "    .dataframe thead th {\n",
       "        text-align: right;\n",
       "    }\n",
       "</style>\n",
       "<table border=\"1\" class=\"dataframe\">\n",
       "  <thead>\n",
       "    <tr style=\"text-align: right;\">\n",
       "      <th></th>\n",
       "      <th>Price</th>\n",
       "      <th>Kilometer</th>\n",
       "    </tr>\n",
       "  </thead>\n",
       "  <tbody>\n",
       "    <tr>\n",
       "      <th>0</th>\n",
       "      <td>505000</td>\n",
       "      <td>87150</td>\n",
       "    </tr>\n",
       "    <tr>\n",
       "      <th>1</th>\n",
       "      <td>450000</td>\n",
       "      <td>75000</td>\n",
       "    </tr>\n",
       "    <tr>\n",
       "      <th>2</th>\n",
       "      <td>220000</td>\n",
       "      <td>67000</td>\n",
       "    </tr>\n",
       "    <tr>\n",
       "      <th>3</th>\n",
       "      <td>799000</td>\n",
       "      <td>37500</td>\n",
       "    </tr>\n",
       "    <tr>\n",
       "      <th>4</th>\n",
       "      <td>1950000</td>\n",
       "      <td>69000</td>\n",
       "    </tr>\n",
       "    <tr>\n",
       "      <th>...</th>\n",
       "      <td>...</td>\n",
       "      <td>...</td>\n",
       "    </tr>\n",
       "    <tr>\n",
       "      <th>2054</th>\n",
       "      <td>850000</td>\n",
       "      <td>90300</td>\n",
       "    </tr>\n",
       "    <tr>\n",
       "      <th>2055</th>\n",
       "      <td>275000</td>\n",
       "      <td>83000</td>\n",
       "    </tr>\n",
       "    <tr>\n",
       "      <th>2056</th>\n",
       "      <td>240000</td>\n",
       "      <td>73000</td>\n",
       "    </tr>\n",
       "    <tr>\n",
       "      <th>2057</th>\n",
       "      <td>4290000</td>\n",
       "      <td>60474</td>\n",
       "    </tr>\n",
       "    <tr>\n",
       "      <th>2058</th>\n",
       "      <td>670000</td>\n",
       "      <td>72000</td>\n",
       "    </tr>\n",
       "  </tbody>\n",
       "</table>\n",
       "<p>2059 rows × 2 columns</p>\n",
       "</div>"
      ],
      "text/plain": [
       "        Price  Kilometer\n",
       "0      505000      87150\n",
       "1      450000      75000\n",
       "2      220000      67000\n",
       "3      799000      37500\n",
       "4     1950000      69000\n",
       "...       ...        ...\n",
       "2054   850000      90300\n",
       "2055   275000      83000\n",
       "2056   240000      73000\n",
       "2057  4290000      60474\n",
       "2058   670000      72000\n",
       "\n",
       "[2059 rows x 2 columns]"
      ]
     },
     "execution_count": 2,
     "metadata": {},
     "output_type": "execute_result"
    }
   ],
   "source": [
    "car_dataframe = pd.read_csv(\"data/car details v4.csv\")\n",
    "car_dataframe.loc[:, [\"Price\", \"Kilometer\"]]"
   ]
  },
  {
   "cell_type": "code",
   "execution_count": 3,
   "metadata": {},
   "outputs": [
    {
     "name": "stdout",
     "output_type": "stream",
     "text": [
      "[35. 42. 35. ... 45. 65. nan]\n",
      "[ 505000.  450000.  220000. ...  240000. 4290000.  670000.]\n",
      "[ True  True  True ...  True  True False]\n",
      "(1946,)\n",
      "[0.67304832 0.80765799 0.67304832 ... 0.61535847 0.86534784 1.24994689]\n",
      "(1946,)\n",
      "[0.30088322 0.26811376 0.13107784 ... 0.1638473  0.14299401 2.55601784]\n"
     ]
    }
   ],
   "source": [
    "#x = (car_dataframe.loc[:, [\"Kilometer\"]]).to_numpy().reshape(-1).astype('float64')\n",
    "#y = (car_dataframe.loc[:, [\"Price\"]]).to_numpy().reshape(-1).astype('float64')\n",
    "x = (car_dataframe.loc[:, [\"Fuel Tank Capacity\"]]).to_numpy().reshape(-1).astype('float64')\n",
    "y = (car_dataframe.loc[:, [\"Price\"]]).to_numpy().reshape(-1).astype('float64')\n",
    "#y = np.log(y)\n",
    "\n",
    "print(x)\n",
    "print(y)\n",
    "\n",
    "nan_indexs = np.isnan(x)\n",
    "\n",
    "print(nan_indexs != 1)\n",
    "\n",
    "x = x[nan_indexs != 1]\n",
    "y = y[nan_indexs != 1]\n",
    "\n",
    "x = x/x.mean()\n",
    "y = y/y.mean()\n",
    "print(x.shape)\n",
    "print(x)\n",
    "print(y.shape)\n",
    "print(y)"
   ]
  },
  {
   "cell_type": "code",
   "execution_count": 4,
   "metadata": {},
   "outputs": [],
   "source": [
    "def make_pred(x, w, b):\n",
    "    return w*x+b\n",
    "\n",
    "def compute_cost(x, y, w, b):\n",
    "    m = float(x.shape[0])\n",
    "    pred = make_pred(x, w, b)\n",
    "    sqd_err = (pred-y)**2\n",
    "    cost = np.sum(sqd_err) / (2*m)\n",
    "    return cost \n",
    "\n",
    "def run_grad_decent(x, y, w, b, alpha):\n",
    "    m = x.shape[0]\n",
    "    diff = make_pred(x, w, b)-y\n",
    "    new_w = w - alpha*(diff.dot(x))/m\n",
    "    new_b = b - alpha*np.sum(diff)/m\n",
    "    return new_w, new_b"
   ]
  },
  {
   "cell_type": "code",
   "execution_count": 5,
   "metadata": {},
   "outputs": [],
   "source": [
    "def run_linear_regression(x, y, num_iter = 1000, alpha = .1):\n",
    "    w = 1.\n",
    "    b = 0.\n",
    "    cost_history = []\n",
    "\n",
    "    for _ in range(num_iter):\n",
    "        w, b = run_grad_decent(x, y, w, b, alpha)\n",
    "\n",
    "        cost = compute_cost(x, y, w, b)\n",
    "        # print(cost)\n",
    "        cost_history.append(cost)\n",
    "\n",
    "    return w, b, cost_history "
   ]
  },
  {
   "cell_type": "code",
   "execution_count": 6,
   "metadata": {},
   "outputs": [
    {
     "name": "stdout",
     "output_type": "stream",
     "text": [
      "2.8414572635227717 -1.8402002480977717\n"
     ]
    },
    {
     "data": {
      "image/png": "[encoded data removed]",
      "text/plain": [
       "<Figure size 640x480 with 1 Axes>"
      ]
     },
     "metadata": {},
     "output_type": "display_data"
    }
   ],
   "source": [
    "w, b, cost_history = run_linear_regression(x, y)\n",
    "\n",
    "print(w, b)\n",
    "\n",
    "largestIndex = x.argmax()\n",
    "pred_x = np.array([x.min(), x.max()])\n",
    "pred_y = make_pred(pred_x, w, b)\n",
    "\n",
    "plt.plot(x, y, 'bo', ms=1) \n",
    "\n",
    "plt.plot(pred_x, pred_y, color='red')\n",
    "\n",
    "plt.show()"
   ]
  }
 ],
 "metadata": {
  "kernelspec": {
   "display_name": "Python 3",
   "language": "python",
   "name": "python3"
  },
  "language_info": {
   "codemirror_mode": {
    "name": "ipython",
    "version": 3
   },
   "file_extension": ".py",
   "mimetype": "text/x-python",
   "name": "python",
   "nbconvert_exporter": "python",
   "pygments_lexer": "ipython3",
   "version": "3.10.12"
  }
 },
 "nbformat": 4,
 "nbformat_minor": 2
}
