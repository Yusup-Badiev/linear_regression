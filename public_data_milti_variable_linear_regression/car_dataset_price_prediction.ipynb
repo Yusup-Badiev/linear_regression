{
 "cells": [
  {
   "cell_type": "code",
   "execution_count": 7,
   "metadata": {},
   "outputs": [],
   "source": [
    "import matplotlib.pyplot as plt\n",
    "import numpy as np\n",
    "import pandas as pd\n",
    "import time"
   ]
  },
  {
   "cell_type": "code",
   "execution_count": null,
   "metadata": {},
   "outputs": [],
   "source": []
  },
  {
   "cell_type": "code",
   "execution_count": 5,
   "metadata": {},
   "outputs": [],
   "source": [
    "def make_pred(x, w, b):\n",
    "    return np.matmul(x, w) + b\n",
    "\n",
    "def compute_cost(x, y, w, b):\n",
    "    sqr_diff = (make_pred(x, w, b) - y)**2\n",
    "    return sqr_diff.sum() / (2*x.shape[0])\n",
    "\n",
    "def run_grad_decent(x, y, w, b, alpha):\n",
    "    cost_sum = ((make_pred(x, w, b)-y).sum() / x.shape[1])\n",
    "    new_b = b - alpha * cost_sum\n",
    "\n",
    "    j = x.shape[1]\n",
    "    i = x.shape[0]\n",
    "\n",
    "    preds = x*(np.matmul(x, w) + b - y)\n",
    "    new_w = np.sum(preds, axis=0)\n",
    "\n",
    "    new_w /= i\n",
    "    new_w = w - (alpha * new_w.reshape([j, 1]))\n",
    "\n",
    "    return new_w, new_b\n",
    "\n",
    "def run_linear_regression(x, y, alpha = .004, iter = 1000):    \n",
    "    j = x.shape[1]\n",
    "    w = np.zeros([j, 1])\n",
    "    b = 0\n",
    "    cost_history = []\n",
    "    print(b)\n",
    "    cost_history.append(compute_cost(x, y, w, b))\n",
    "    for _ in range(iter):\n",
    "        w, b = run_grad_decent(x, y, w, b, alpha)\n",
    "        cost_history.append(compute_cost(x, y, w, b))\n",
    "    print(compute_cost(x, y, w, b))\n",
    "    return w, b, cost_history "
   ]
  },
  {
   "cell_type": "markdown",
   "metadata": {},
   "source": []
  },
  {
   "cell_type": "code",
   "execution_count": 6,
   "metadata": {},
   "outputs": [
    {
     "name": "stdout",
     "output_type": "stream",
     "text": [
      "0\n",
      "0.4922173508241255\n",
      "0\n",
      "0.3940209994331573\n",
      "0\n",
      "0.38359830143536805\n",
      "0\n"
     ]
    },
    {
     "name": "stderr",
     "output_type": "stream",
     "text": [
      "/tmp/ipykernel_11269/3448354279.py:5: RuntimeWarning: overflow encountered in square\n",
      "  sqr_diff = (make_pred(x, w, b) - y)**2\n",
      "/usr/local/share/linear_regression_project/lib/python3.10/site-packages/numpy/core/_methods.py:49: RuntimeWarning: overflow encountered in reduce\n",
      "  return umr_sum(a, axis, dtype, out, keepdims, initial, where)\n",
      "/tmp/ipykernel_11269/3448354279.py:15: RuntimeWarning: overflow encountered in multiply\n",
      "  preds = x*(np.matmul(x, w) + b - y)\n",
      "/tmp/ipykernel_11269/3448354279.py:2: RuntimeWarning: invalid value encountered in matmul\n",
      "  return np.matmul(x, w) + b\n",
      "/tmp/ipykernel_11269/3448354279.py:15: RuntimeWarning: invalid value encountered in matmul\n",
      "  preds = x*(np.matmul(x, w) + b - y)\n"
     ]
    },
    {
     "name": "stdout",
     "output_type": "stream",
     "text": [
      "nan\n"
     ]
    },
    {
     "data": {
      "image/png": "[encoded data removed]",
      "text/plain": [
       "<Figure size 640x480 with 1 Axes>"
      ]
     },
     "metadata": {},
     "output_type": "display_data"
    }
   ],
   "source": [
    "# Grab dataset from file\n",
    "car_dataframe = pd.read_csv(\"data/car details v4.csv\")\n",
    "data = (car_dataframe.loc[:, [\"Fuel Tank Capacity\", \"Year\", \"Price\"]]).to_numpy().astype('float64')\n",
    "\n",
    "# Use simple data cleaning of dropping all null data\n",
    "data_clean = data[~np.isnan(data).any(axis=1)]\n",
    "\n",
    "# Suffle data insure equal distabution between train, validation, and test sets (Also use seed to insure determinisum)\n",
    "rng = np.random.default_rng(seed=42)\n",
    "rng.shuffle(data_clean)\n",
    "\n",
    "# Split up data set into train, validation, and test\n",
    "train_set_end_index = int(data_clean.shape[0]/2)\n",
    "validation_set_end_index = int(3*data_clean.shape[0]/4)\n",
    "train_set = data_clean[:train_set_end_index]\n",
    "validation_set = data_clean[train_set_end_index:validation_set_end_index]\n",
    "test_set = data_clean[validation_set_end_index:]\n",
    "\n",
    "x = train_set[:, :2]\n",
    "y = train_set[:, 2:]\n",
    "\n",
    "normalization_vars = np.empty((x.shape[1], 2))\n",
    "\n",
    "for i in range(x.shape[1]):\n",
    "    mean = x[:, i:i+1].mean()\n",
    "    std_dev = x[:, i:i+1].std()\n",
    "    x[:, i:i+1] = (x[:, i:i+1] - mean) / std_dev\n",
    "    normalization_vars[i] = [mean, std_dev]\n",
    "\n",
    "# Normalize targets to prevent overflow error.\n",
    "target_mean = y.mean()\n",
    "y = y / target_mean\n",
    "# run_linear_regression(x, y)\n",
    "\n",
    "polynomial_architectures = [x]\n",
    "validation_set_architectures = [x]\n",
    "\n",
    "polynomial_degree = 3\n",
    "\n",
    "for _i in range(polynomial_degree-1):\n",
    "    last_polygon = polynomial_architectures[-1]\n",
    "    polynomal_set = np.empty([last_polygon.shape[0], last_polygon.shape[1]**2+last_polygon.shape[1]])\n",
    "\n",
    "    for i in range(last_polygon.shape[0]):\n",
    "        for j in range(last_polygon.shape[1]):\n",
    "            polynomal_set[i, j] = last_polygon[i, j]\n",
    "\n",
    "    for i in range(last_polygon.shape[0]):\n",
    "        index = 0\n",
    "        for j in range(last_polygon.shape[1]):\n",
    "            for k in range(last_polygon.shape[1]):\n",
    "                polynomal_set[i, index+last_polygon.shape[1]] = last_polygon[i, j] * last_polygon[i, k]\n",
    "                index += 1\n",
    "\n",
    "    polynomial_architectures.append(polynomal_set)\n",
    "\n",
    "'''\n",
    "for _i in range(polynomial_degree-1):\n",
    "    last_polygon = validation_set_architectures[-1]\n",
    "    polynomal_set = np.empty([last_polygon.shape[0], last_polygon.shape[1]**2])\n",
    "\n",
    "    for i in range(last_polygon.shape[0]):\n",
    "        index = 0\n",
    "        for j in range(last_polygon.shape[1]):\n",
    "            for k in range(last_polygon.shape[1]):\n",
    "                polynomal_set[i, index] = last_polygon[i, j] * last_polygon[i, k]\n",
    "                index += 1\n",
    "\n",
    "    validation_set_architectures.append(polynomal_set)\n",
    "'''\n",
    "\n",
    "for x in polynomial_architectures:\n",
    "    for i in range(x.shape[1]):\n",
    "        mean = x[:, i:i+1].mean()\n",
    "        std_dev = x[:, i:i+1].std()\n",
    "        x[:, i:i+1] = (x[:, i:i+1] - mean) / std_dev\n",
    "\n",
    "cost_histories = []\n",
    "\n",
    "for i in range(polynomial_degree):\n",
    "    _,_, cost_history = run_linear_regression(polynomial_architectures[i], y)\n",
    "    cost_histories.append(cost_history)\n",
    "\n",
    "for i in range(len(cost_histories)):\n",
    "    x = cost_histories[i]\n",
    "    plt.plot(x, label = f\"polynomial degee {i+1}\") \n",
    "\n",
    "plt.legend()\n",
    "plt.show()\n",
    "\n",
    "for architecture in polynomial_architectures:\n",
    "    # run_linear_regression(architecture, y)\n",
    "    # Get train set x and y\n",
    "    # Get validation set x and y\n",
    "    # Train on train set\n",
    "    # Save cost of traing set\n",
    "    # Save cost of validation set\n",
    "    pass"
   ]
  }
 ],
 "metadata": {
  "kernelspec": {
   "display_name": "Python 3",
   "language": "python",
   "name": "python3"
  },
  "language_info": {
   "codemirror_mode": {
    "name": "ipython",
    "version": 3
   },
   "file_extension": ".py",
   "mimetype": "text/x-python",
   "name": "python",
   "nbconvert_exporter": "python",
   "pygments_lexer": "ipython3",
   "version": "3.10.12"
  }
 },
 "nbformat": 4,
 "nbformat_minor": 2
}
