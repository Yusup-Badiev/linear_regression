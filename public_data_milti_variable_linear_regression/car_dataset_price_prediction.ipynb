{
 "cells": [
  {
   "cell_type": "code",
   "execution_count": 1,
   "metadata": {},
   "outputs": [],
   "source": [
    "import matplotlib.pyplot as plt\n",
    "import numpy as np\n",
    "import pandas as pd"
   ]
  },
  {
   "cell_type": "code",
   "execution_count": 2,
   "metadata": {},
   "outputs": [
    {
     "name": "stdout",
     "output_type": "stream",
     "text": [
      "[[  35. 2017.]\n",
      " [  42. 2014.]\n",
      " [  35. 2011.]\n",
      " ...\n",
      " [  45. 2013.]\n",
      " [  65. 2018.]\n",
      " [  nan 2017.]]\n",
      "[[ 505000.]\n",
      " [ 450000.]\n",
      " [ 220000.]\n",
      " ...\n",
      " [ 240000.]\n",
      " [4290000.]\n",
      " [ 670000.]]\n"
     ]
    }
   ],
   "source": [
    "car_dataframe = pd.read_csv(\"data/car details v4.csv\")\n",
    "data = (car_dataframe.loc[:, [\"Fuel Tank Capacity\", \"Year\", \"Price\"]]).to_numpy().astype('float64')\n",
    "data_clean = data[~np.isnan(data).any(axis=1)]\n",
    "x = data[:, :2]\n",
    "y = data[:, 2:]\n",
    "print(x)\n",
    "print(y)"
   ]
  },
  {
   "cell_type": "code",
   "execution_count": 22,
   "metadata": {},
   "outputs": [],
   "source": [
    "def compute_cost(x, y, w, b):\n",
    "    m = y.shape[0]\n",
    "    return 2\n",
    "\n",
    "def run_grad_decent(x, y, w, b, alpha):\n",
    "    return w, b\n",
    "\n",
    "def run_linear_regression(x, y, alpha = .01, iter = 1000):\n",
    "    j = x.shape[1]\n",
    "    w = np.empty([j, 1])\n",
    "    print(w)\n",
    "    b = 0\n",
    "    for _ in range(iter):\n",
    "        w, b = run_grad_decent(x, y, w, b, alpha)\n",
    "        # print(compute_cost(x, y, w, b))\n",
    "    return w, b"
   ]
  },
  {
   "cell_type": "code",
   "execution_count": 23,
   "metadata": {},
   "outputs": [
    {
     "name": "stdout",
     "output_type": "stream",
     "text": [
      "[[0.e+000]\n",
      " [5.e-324]]\n"
     ]
    },
    {
     "data": {
      "text/plain": [
       "(array([[0.e+000],\n",
       "        [5.e-324]]),\n",
       " 0)"
      ]
     },
     "execution_count": 23,
     "metadata": {},
     "output_type": "execute_result"
    }
   ],
   "source": [
    "run_linear_regression(x, y)"
   ]
  },
  {
   "cell_type": "code",
   "execution_count": null,
   "metadata": {},
   "outputs": [],
   "source": []
  }
 ],
 "metadata": {
  "kernelspec": {
   "display_name": "Python 3",
   "language": "python",
   "name": "python3"
  },
  "language_info": {
   "codemirror_mode": {
    "name": "ipython",
    "version": 3
   },
   "file_extension": ".py",
   "mimetype": "text/x-python",
   "name": "python",
   "nbconvert_exporter": "python",
   "pygments_lexer": "ipython3",
   "version": "3.10.12"
  }
 },
 "nbformat": 4,
 "nbformat_minor": 2
}
