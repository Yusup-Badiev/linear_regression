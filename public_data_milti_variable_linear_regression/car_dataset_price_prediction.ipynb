{
 "cells": [
  {
   "cell_type": "code",
   "execution_count": 115,
   "metadata": {},
   "outputs": [],
   "source": [
    "import matplotlib.pyplot as plt\n",
    "import numpy as np\n",
    "import pandas as pd"
   ]
  },
  {
   "cell_type": "code",
   "execution_count": 116,
   "metadata": {},
   "outputs": [
    {
     "name": "stdout",
     "output_type": "stream",
     "text": [
      "[[3.500e+01 2.017e+03 5.050e+05]\n",
      " [4.200e+01 2.014e+03 4.500e+05]\n",
      " [3.500e+01 2.011e+03 2.200e+05]\n",
      " ...\n",
      " [3.200e+01 2.014e+03 2.750e+05]\n",
      " [4.500e+01 2.013e+03 2.400e+05]\n",
      " [6.500e+01 2.018e+03 4.290e+06]]\n",
      "[[0.03383984 1.95014137]\n",
      " [0.0406078  1.94724081]\n",
      " [0.03383984 1.94434025]\n",
      " ...\n",
      " [0.03093928 1.94724081]\n",
      " [0.04350836 1.94627396]\n",
      " [0.06284541 1.95110822]]\n",
      "[[0.30088322]\n",
      " [0.26811376]\n",
      " [0.13107784]\n",
      " ...\n",
      " [0.1638473 ]\n",
      " [0.14299401]\n",
      " [2.55601784]]\n"
     ]
    }
   ],
   "source": [
    "car_dataframe = pd.read_csv(\"data/car details v4.csv\")\n",
    "data = (car_dataframe.loc[:, [\"Fuel Tank Capacity\", \"Year\", \"Price\"]]).to_numpy().astype('float64')\n",
    "data_clean = data[~np.isnan(data).any(axis=1)]\n",
    "print(data_clean)\n",
    "x = data_clean[:, :2]\n",
    "y = data_clean[:, 2:]\n",
    "x = x / x.mean()\n",
    "y = y / y.mean()\n",
    "print(x)\n",
    "print(y)"
   ]
  },
  {
   "cell_type": "code",
   "execution_count": 117,
   "metadata": {},
   "outputs": [],
   "source": [
    "def make_pred(x, w, b):\n",
    "    return np.matmul(x, w) + b\n",
    "\n",
    "def compute_cost(x, y, w, b):\n",
    "    sqr_diff = (make_pred(x, w, b) - y)**2\n",
    "    return sqr_diff.sum() / (2*x.shape[1])\n",
    "\n",
    "def run_grad_decent(x, y, w, b, alpha):\n",
    "    cost_sum = ((make_pred(x, w, b)-y).sum() / x.shape[1])\n",
    "    new_b = b - alpha * cost_sum\n",
    "\n",
    "    j = x.shape[1]\n",
    "    i = x.shape[0]\n",
    "    new_w = np.empty(j)\n",
    "    for k in range(i):\n",
    "        pred = w.reshape(-1).dot(x[k]) + b - y[k]\n",
    "        for l in range(j):\n",
    "            new_w[l] += (pred*x[k][l]).item()\n",
    "    new_w /= j\n",
    "    new_w = new_w.reshape([j, 1])\n",
    "    \n",
    "    return new_w, new_b\n",
    "\n",
    "def run_linear_regression(x, y, alpha = .0001, iter = 5):\n",
    "    j = x.shape[1]\n",
    "    w = np.empty([j, 1])\n",
    "    b = 0\n",
    "    print(compute_cost(x, y, w, b))\n",
    "    for _ in range(iter):\n",
    "        w, b = run_grad_decent(x, y, w, b, alpha)\n",
    "        print(compute_cost(x, y, w, b))\n",
    "    return w, b"
   ]
  },
  {
   "cell_type": "code",
   "execution_count": 118,
   "metadata": {},
   "outputs": [
    {
     "name": "stdout",
     "output_type": "stream",
     "text": [
      "1476.3012173916443\n",
      "5.881736885502571e+37\n",
      "8.057095780536327e+44\n",
      "1.103701125997567e+52\n",
      "1.511904796351913e+59\n",
      "2.0710825235100486e+66\n"
     ]
    },
    {
     "data": {
      "text/plain": [
       "(array([[-8.62486929e+29],\n",
       "        [-3.34431210e+31]]),\n",
       " 1.7157358181630234e+27)"
      ]
     },
     "execution_count": 118,
     "metadata": {},
     "output_type": "execute_result"
    }
   ],
   "source": [
    "run_linear_regression(x, y)"
   ]
  },
  {
   "cell_type": "code",
   "execution_count": null,
   "metadata": {},
   "outputs": [],
   "source": []
  }
 ],
 "metadata": {
  "kernelspec": {
   "display_name": "Python 3",
   "language": "python",
   "name": "python3"
  },
  "language_info": {
   "codemirror_mode": {
    "name": "ipython",
    "version": 3
   },
   "file_extension": ".py",
   "mimetype": "text/x-python",
   "name": "python",
   "nbconvert_exporter": "python",
   "pygments_lexer": "ipython3",
   "version": "3.10.12"
  }
 },
 "nbformat": 4,
 "nbformat_minor": 2
}
