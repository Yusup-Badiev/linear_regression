{
 "cells": [
  {
   "cell_type": "code",
   "execution_count": 65,
   "metadata": {},
   "outputs": [],
   "source": [
    "import numpy as np"
   ]
  },
  {
   "cell_type": "code",
   "execution_count": 66,
   "metadata": {},
   "outputs": [
    {
     "name": "stdout",
     "output_type": "stream",
     "text": [
      "[0 1 2]\n",
      "[100 110 120]\n"
     ]
    }
   ],
   "source": [
    "# Generate some basic test data\n",
    "x = np.arange(3)\n",
    "y = np.arange(100, 130, 10)\n",
    "\n",
    "# Check test data\n",
    "print(x)\n",
    "print(y)"
   ]
  },
  {
   "cell_type": "code",
   "execution_count": 67,
   "metadata": {},
   "outputs": [],
   "source": [
    "def make_prediction(x, w, b):\n",
    "    return w*x+b\n",
    "\n",
    "def compute_cost(x, y, w, b):\n",
    "    m = x.shape[0]\n",
    "    predictions = make_prediction(x, w, b)\n",
    "    sqr_errors = (predictions-y)**2\n",
    "    cost = np.sum(sqr_errors)/(2*m)\n",
    "    return cost\n",
    "\n",
    "def run_gradient_decent(x, y, w, b, learning_rate):\n",
    "    m = x.shape[0]\n",
    "    grad = (make_prediction(x, w, b)-y).dot(x)\n",
    "    \n",
    "    w_new = w - learning_rate*grad/m\n",
    "    b_new = b - learning_rate*np.sum(make_prediction(x, w, b) - y)/m\n",
    "    \n",
    "    return w_new, b_new"
   ]
  },
  {
   "cell_type": "code",
   "execution_count": 68,
   "metadata": {},
   "outputs": [],
   "source": [
    "def run_linear_regression(x, y, learning_rate = .2, num_iter = 1000, print_cost: bool = False):\n",
    "    \"\"\"Runs linear regression on the single variable arrays x and y, x being input and y being targets.\n",
    "\n",
    "    Args:\n",
    "        x: A numpy vector of inputs.\n",
    "        y: A numpy vector of inputs.\n",
    "        learning_rate: Learing rate for gradient decent.\n",
    "        num_iter: Number of iteration to run gradient decent for.\n",
    "        print_cost: If set to True the cost will pre printed each iteration (used for debugging).\n",
    "\n",
    "    Returns:\n",
    "        A tuple of leard w, b and a history of the cost.\n",
    "    \"\"\"\n",
    "\n",
    "    w = 0\n",
    "    b = 0\n",
    "    cost_history = []\n",
    "    \n",
    "    for i in range(num_iter):\n",
    "        w, b = run_gradient_decent(x, y, w, b, learning_rate)\n",
    "        cost = compute_cost(x, y, w, b)\n",
    "        if print_cost:\n",
    "            print(f\"iteration: {i}, cost: {cost}\")\n",
    "        cost_history.append(cost)\n",
    "\n",
    "    return w, b, cost_history"
   ]
  },
  {
   "cell_type": "code",
   "execution_count": 69,
   "metadata": {},
   "outputs": [
    {
     "name": "stdout",
     "output_type": "stream",
     "text": [
      "140.0000000000001\n"
     ]
    }
   ],
   "source": [
    "# Run single variable linear regression\n",
    "w, b, cost_history = run_linear_regression(x, y)\n",
    "\n",
    "# Make a prediciton about a new input 4, expect ~140\n",
    "print(make_prediction(4, w, b))"
   ]
  }
 ],
 "metadata": {
  "kernelspec": {
   "display_name": "Python 3",
   "language": "python",
   "name": "python3"
  },
  "language_info": {
   "codemirror_mode": {
    "name": "ipython",
    "version": 3
   },
   "file_extension": ".py",
   "mimetype": "text/x-python",
   "name": "python",
   "nbconvert_exporter": "python",
   "pygments_lexer": "ipython3",
   "version": "3.10.12"
  }
 },
 "nbformat": 4,
 "nbformat_minor": 2
}
